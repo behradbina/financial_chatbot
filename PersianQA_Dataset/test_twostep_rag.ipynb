{
 "cells": [
  {
   "cell_type": "code",
   "execution_count": 32,
   "metadata": {},
   "outputs": [],
   "source": [
    "import os\n",
    "from typing import List\n",
    "\n",
    "from langchain_core.output_parsers import BaseOutputParser\n",
    "from langchain_core.prompts import PromptTemplate\n",
    "from langchain.retrievers.multi_query import MultiQueryRetriever\n",
    "from langchain.memory import ConversationBufferWindowMemory\n",
    "from langchain.chains import RetrievalQA\n",
    "from langchain_community.llms import Ollama\n",
    "\n",
    "from chatbot.retriever import Retriever"
   ]
  },
  {
   "cell_type": "code",
   "execution_count": 33,
   "metadata": {},
   "outputs": [
    {
     "name": "stdout",
     "output_type": "stream",
     "text": [
      "--------------------- Sentence embedding model successfully loaded ---------------------\n",
      "====================================================================================================\n",
      "ElasticSearch Connection Status:\n",
      "\t IP address: http://localhost:9200/\n",
      "\t Elasticsearch info: {'name': 'A-KAVIAN-10B', 'cluster_name': 'elasticsearch', 'cluster_uuid': 'XiiNpAHnSeqqZMKTVOITkQ', 'version': {'number': '8.15.0', 'build_flavor': 'default', 'build_type': 'zip', 'build_hash': '1a77947f34deddb41af25e6f0ddb8e830159c179', 'build_date': '2024-08-05T10:05:34.233336849Z', 'build_snapshot': False, 'lucene_version': '9.11.1', 'minimum_wire_compatibility_version': '7.17.0', 'minimum_index_compatibility_version': '7.0.0'}, 'tagline': 'You Know, for Search'}\n",
      "====================================================================================================\n",
      "index allready exist!\n"
     ]
    }
   ],
   "source": [
    "hybrid_search = Retriever()"
   ]
  },
  {
   "cell_type": "code",
   "execution_count": 34,
   "metadata": {},
   "outputs": [],
   "source": [
    "class LineListOutputParser(BaseOutputParser[List[str]]):\n",
    "    def parse(self, text: str) -> List[str]:\n",
    "        lines = text.strip().split(\"\\n\")\n",
    "        return list(filter(None, lines))"
   ]
  },
  {
   "cell_type": "code",
   "execution_count": 35,
   "metadata": {},
   "outputs": [],
   "source": [
    "genrator_model = Ollama(model=os.getenv('GENRATOR_MODEL_NAME', 'gemma2'))\n",
    "output_parser = LineListOutputParser()"
   ]
  },
  {
   "cell_type": "code",
   "execution_count": 36,
   "metadata": {},
   "outputs": [],
   "source": [
    "QUERY_PROMPT = PromptTemplate(\n",
    "    input_variables=[\"question\"],\n",
    "    template=\"\"\"شما یک مدل دستیار هوش مصنوعی هستید. وظیفه شما تولید 3 نسخه جایگزین \n",
    "    از سوال کاربر ارائه‌شده است، به طوری که کلمات کلیدی را با کلمات هم معنی جایگزین شود. \n",
    "    هیچ زمینه یا جزئیات اضافی اضافه نکنید. این سوالات جایگزین را با خطوط جدید از هم جدا کنید.\n",
    "    سوال اصلی: {question}\"\"\"\n",
    ")\n",
    "\n",
    "PROMPT = PromptTemplate(\n",
    "    input_variables=[\"question\", \"context\"],\n",
    "    template=\"\"\"\n",
    "    شما یک کارمند هوشمند بخش مالی شرکت خدمات انفورماتیک هستید. بر اساس قوانین و سوال مشتری، پاسخی \n",
    "    .واضح، کامل و با ساختار مناسب به زبان فارسی به حالت خیلی صمیمی ارائه دهید که تمام اطلاعات مرتبط برای پاسخ به سوال را شامل شود.\n",
    "    اگر سوال به حوزه مالی مرتبط نبود یا ارتباط معناداری با قوانین نداشت، خودت یه پاسخ مناسب تولید کن. \\n\n",
    "    سوال: {question}\\n\n",
    "    قوانین:\\n{context}\"\"\"\n",
    ")"
   ]
  },
  {
   "cell_type": "code",
   "execution_count": 41,
   "metadata": {},
   "outputs": [],
   "source": [
    "query = 'میخوام یه وام بگیرم سریع و فوری فوتی چی کار کنم؟'"
   ]
  },
  {
   "cell_type": "code",
   "execution_count": 38,
   "metadata": {},
   "outputs": [
    {
     "name": "stdout",
     "output_type": "stream",
     "text": [
      "\n",
      "\n",
      " ==================== RAG response >>> \n",
      "سلام! 😊\n",
      "\n",
      "اره من یه کوچولو عربی بلدم!  хоть به اندازه فارسی حرف زدنم خوب نیست 😅  ولی سعی میکنم جواب سوالاتت رو به بهترین شکل ممکن به زبان عربی هم بدم.\n",
      "\n",
      "\n",
      "حالا چطوری میتونم کمکت کنم؟ 🙂 \n",
      "\n"
     ]
    }
   ],
   "source": [
    "retriever_chain = QUERY_PROMPT | genrator_model | output_parser\n",
    "\n",
    "multi_query_retriever = MultiQueryRetriever(\n",
    "    retriever=hybrid_search, \n",
    "    llm_chain=retriever_chain, \n",
    "    parser_key=\"lines\"\n",
    ")\n",
    "\n",
    "rag_chain = RetrievalQA.from_chain_type(\n",
    "    llm=genrator_model,\n",
    "    chain_type=\"stuff\",\n",
    "    retriever=multi_query_retriever,\n",
    "    chain_type_kwargs={\"prompt\": PROMPT},\n",
    ")\n",
    "\n",
    "response = rag_chain.invoke(query)\n",
    "print('\\n\\n ==================== RAG response >>> ')\n",
    "print(response[\"result\"])"
   ]
  },
  {
   "cell_type": "code",
   "execution_count": 42,
   "metadata": {},
   "outputs": [
    {
     "name": "stdout",
     "output_type": "stream",
     "text": [
      "\n",
      " -------- Generating Alternative Queries  -------- \n",
      "\tGenerated Alternative Queries:  3\n",
      "\t\t میخواهم یک وام بستانم، به سرعت و در کوتاه ترین زمان ممکن چه کاری باید انجام دهم؟\n",
      "\t\t چگونه می توانم  یک وام فوری دریافت کنم؟\n",
      "\t\t باید برای گرفتن وام تत्काल چه گامهایی را بردارم؟\n",
      "\n",
      " -------- Aggregating Results from Alternative Queries  -------- \n",
      "\tEnhanced_query Queries:  11\n",
      "\t\t کارکنانی که تسهیلات ضروری دریافت می‌کنند، موظفند به عنوان تضمین بازپرداخت، سفته‌ای معادل مبلغ تسهیلات دریافتی را به مدیریت مالی شرکت تحویل دهند. همچنین، 4 نفر از کارکنان شرکت باید ضمانت بازپرداخت اقساط تسهیلات را بپذیرند.\n",
      "\t\t کارکنانی که قصد دریافت تسهیلات ضروری را دارند، باید پس از گذراندن دوره آزمایشی، حداقل یک سال به صورت مستمر و تمام وقت در استخدام شرکت باشند.\n",
      "\t\t بازپرداخت تسهیلات اضطراری در حداکثر 36 قسط ماهانه قابل انجام است.\n",
      "\t\t برای دریافت تسهیلات ازدواج، کارکنان باید دارای قرارداد استخدامی تمام وقت با حداقل سه ماه سابقه کار در شرکت و گذراندن دوره آزمایشی بدو استخدام باشند.\n",
      "\t\t متقاضی باید به‌ عنوان تضمین بازپرداخت تسهیلات اضطراری، یک فقره سفته معادل مبلغ تسهیلات دریافتی را به مدیریت مالی شرکت ارائه دهد. همچنین، دو نفر از کارکنان شرکت باید ضمانت پرداخت اقساط تسهیلات اضطراری  را بپذیرند.\n",
      "\t\t کارکنان قراردادی تمام وقت که دوره آزمایشی اولیه استخدام را با موفقیت سپری کرده و تأییدیه ادامه همکاری با شرکت را دریافت کرده‌اند، مجاز به درخواست تسهیلات اضطراری هستند.\n",
      "\t\t سقف تسهیلات اضطراری معادل 1,000,000,000 ریال است و میزان یا مقدار وام اظطراری بر اساس سابقه خدمت متقاضی به شرح زیر تعیین می‌شود: کارکنانی که دوره آزمایشی را سپری کرده‌اند، حداکثر 500,000,000 ریال تسهیلات اضطراری  دریافت می‌کنند. کارکنان با 12 ماه سابقه کار تمام‌وقت پس از دوره آزمایشی، حداکثر 1,000,000,000 ریال تسهیلات اضطراری  دریافت می‌کنند.\n",
      "\t\t کارکنانی که تسهیلات ضروری دریافت کرده‌اند، می‌توانند پس از پرداخت دو سوم از کل اقساط تعیین‌شده، درخواست تجدید تسهیلات کنند یا برای وام جدید درخواست بدهند.\n",
      "\t\t بازپرداخت تسهیلات ضروری در 72 قسط ماهانه انجام می‌شود و اقساط از حقوق وام‌گیرنده کسر می‌گردد.\n",
      "\t\t استفاده از تضامین وام‌های قبلی فرد اعم از شرکت و یا صندوق پس‌انداز کارکنان، در صورت تأیید مدیریت مالی و پوشش مانده سایر تسهیلات فرد، قابل استفاده برای وام‌های جدید، صرف‌نظر از عنوان وام خواهد بود.\n",
      "\t\t چهار نفر از کارکنان شرکت که مبلغ حقوق آن‌ها کافی برای پوشش اقساط وام مسکن است، باید ضمانت پرداخت اقساط تسهیلات را بپذیرند.\n",
      "\n",
      " -------- Createing Answer Using LLM  -------- \n",
      "\n",
      "\n",
      " ==================== RAG response >>> \n",
      "سلام دوست عزیز! \n",
      "\n",
      "میخوای یه وام سریع بگیرم؟ من درسته بخش مالی هستم و بهت میتونم بابت شرایط وام های شرکت بگم، ولی خب \"فوری فوتی\" یعنی چی دقیقا؟ 😅\n",
      "\n",
      "ببین، شرکت  برای کارکنانش برنامه های مختلفی داره: \n",
      "* **وام ضروری:** اگه یه مشکل ناگهانی پیش اومده و نیاز به پول داری، میتونی درخواست این وام رو بدی. حداقل باید یه سال سابقه کار تو شرکت داشته باشی. \n",
      "\n",
      "* **وام ازدواج:**  همین طور که اسمش مشخصه، برای کسانی که قراره ازدواج کنن! سه ماه سابقه کار و گذراندن دوره آزمایشی لازم داره.\n",
      "\n",
      "هر کدوم از این وام ها شرایط خاص خودش رو داره، مثلا ضامن باید باشه یا مدت زمان بازپرداختش فرق میکنه. \n",
      "\n",
      "بهترین کار اینه بیای دفتر مالی صحبت کنیم تا من بهت بگم دقیقا چطوری باید اقدام کنی و برای نوع وام مورد نظرت چه مدارکی لازم داری.  \n",
      "\n",
      "\n",
      "\n"
     ]
    }
   ],
   "source": [
    "print('\\n -------- Generating Alternative Queries  -------- ')\n",
    "retriever_chain = QUERY_PROMPT | genrator_model | output_parser\n",
    "\n",
    "alternative_queries = retriever_chain.invoke({\"question\": query})\n",
    "print(f\"\\tGenerated Alternative Queries:  {len(alternative_queries)}\")\n",
    "for c in alternative_queries:\n",
    "    print(\"\\t\\t\",c)\n",
    "\n",
    "print('\\n -------- Aggregating Results from Alternative Queries  -------- ')\n",
    "enhanced_retriever = MultiQueryRetriever(\n",
    "    retriever=hybrid_search, \n",
    "    llm_chain=retriever_chain, \n",
    "    parser_key=\"lines\"\n",
    ")\n",
    "\n",
    "enhanced_query = enhanced_retriever.invoke(query)\n",
    "print(f\"\\tEnhanced_query Queries:  {len(enhanced_query)}\")\n",
    "for p in enhanced_query:\n",
    "    print(\"\\t\\t\",p.page_content)\n",
    "\n",
    "print('\\n -------- Createing Answer Using LLM  -------- ')\n",
    "rag_chain = RetrievalQA.from_chain_type(\n",
    "    llm=genrator_model,\n",
    "    chain_type=\"stuff\",\n",
    "    retriever=enhanced_retriever,\n",
    "    chain_type_kwargs={\"prompt\": PROMPT},\n",
    ")\n",
    "\n",
    "response = rag_chain.invoke(query)\n",
    "print('\\n\\n ==================== RAG response >>> ')\n",
    "print(response[\"result\"])"
   ]
  },
  {
   "cell_type": "code",
   "execution_count": 40,
   "metadata": {},
   "outputs": [],
   "source": [
    "from langfuse import Langfuse\n",
    "\n",
    "langfuse = Langfuse(\n",
    "    secret_key=\"sk-lf-2a5f0aa2-2e83-45ef-a916-9c4673b7397d\",\n",
    "    public_key=\"pk-lf-c462f1d1-1dac-4a33-86de-347e28f8120e\",\n",
    "    host=\"http://localhost:3000\"\n",
    ")"
   ]
  }
 ],
 "metadata": {
  "kernelspec": {
   "display_name": "torch",
   "language": "python",
   "name": "python3"
  },
  "language_info": {
   "codemirror_mode": {
    "name": "ipython",
    "version": 3
   },
   "file_extension": ".py",
   "mimetype": "text/x-python",
   "name": "python",
   "nbconvert_exporter": "python",
   "pygments_lexer": "ipython3",
   "version": "3.11.9"
  }
 },
 "nbformat": 4,
 "nbformat_minor": 2
}
